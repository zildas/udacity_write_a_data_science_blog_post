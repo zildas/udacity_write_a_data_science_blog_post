{
 "cells": [
  {
   "cell_type": "code",
   "execution_count": 84,
   "metadata": {},
   "outputs": [],
   "source": [
    "import numpy as np\n",
    "import pandas as pd\n",
    "import matplotlib.pyplot as plt\n",
    "from sklearn.linear_model import LinearRegression\n",
    "from sklearn.model_selection import train_test_split\n",
    "from sklearn.metrics import r2_score, mean_squared_error\n",
    "import seaborn as sns\n",
    "from collections import defaultdict\n",
    "from sklearn.feature_selection import SelectKBest\n",
    "from sklearn.feature_selection import f_regression\n",
    "import math\n",
    "%matplotlib inline\n",
    "\n",
    "df_lis = pd.read_csv('listings.csv')"
   ]
  },
  {
   "cell_type": "markdown",
   "metadata": {},
   "source": [
    "First I would like to know about the dimensions of each dataset. Also i would like to observe tha dataset."
   ]
  },
  {
   "cell_type": "markdown",
   "metadata": {},
   "source": [
    "## 1. Business Understanding"
   ]
  },
  {
   "cell_type": "code",
   "execution_count": 85,
   "metadata": {
    "scrolled": true
   },
   "outputs": [
    {
     "name": "stdout",
     "output_type": "stream",
     "text": [
      "(243, 92)\n"
     ]
    }
   ],
   "source": [
    "#Below code gives information about the number of columns and number of rows.\n",
    "print(df_lis.shape)"
   ]
  },
  {
   "cell_type": "markdown",
   "metadata": {},
   "source": [
    "The listings show each house's informations so I would like to know more detail about this dataset, starting with the column names and data types of each house."
   ]
  },
  {
   "cell_type": "code",
   "execution_count": 86,
   "metadata": {},
   "outputs": [
    {
     "data": {
      "text/plain": [
       "object     61\n",
       "float64    23\n",
       "int64       8\n",
       "Name: count, dtype: int64"
      ]
     },
     "execution_count": 86,
     "metadata": {},
     "output_type": "execute_result"
    }
   ],
   "source": [
    "#Below code show the data types and the number of these data types in the dataset\n",
    "df_lis.dtypes.value_counts()"
   ]
  },
  {
   "cell_type": "code",
   "execution_count": 87,
   "metadata": {
    "scrolled": true
   },
   "outputs": [
    {
     "data": {
      "text/plain": [
       "zipcode                           float64\n",
       "latitude                          float64\n",
       "longitude                         float64\n",
       "bathrooms                         float64\n",
       "square_feet                       float64\n",
       "guests_included                   float64\n",
       "minimum_nights                    float64\n",
       "maximum_nights                    float64\n",
       "availability_30                   float64\n",
       "availability_60                   float64\n",
       "availability_90                   float64\n",
       "availability_365                  float64\n",
       "number_of_reviews                 float64\n",
       "review_scores_rating              float64\n",
       "review_scores_accuracy            float64\n",
       "review_scores_cleanliness         float64\n",
       "review_scores_checkin             float64\n",
       "review_scores_communication       float64\n",
       "review_scores_location            float64\n",
       "review_scores_value               float64\n",
       "license                           float64\n",
       "calculated_host_listings_count    float64\n",
       "reviews_per_month                 float64\n",
       "dtype: object"
      ]
     },
     "execution_count": 87,
     "metadata": {},
     "output_type": "execute_result"
    }
   ],
   "source": [
    "#Below code show the name of the columns which are float64 data type\n",
    "df_lis.dtypes[df_lis.dtypes=='float64']"
   ]
  },
  {
   "cell_type": "code",
   "execution_count": 88,
   "metadata": {},
   "outputs": [
    {
     "data": {
      "text/plain": [
       "id                           int64\n",
       "scrape_id                    int64\n",
       "host_id                      int64\n",
       "host_listings_count          int64\n",
       "host_total_listings_count    int64\n",
       "accommodates                 int64\n",
       "bedrooms                     int64\n",
       "beds                         int64\n",
       "dtype: object"
      ]
     },
     "execution_count": 88,
     "metadata": {},
     "output_type": "execute_result"
    }
   ],
   "source": [
    "#Below code show the name of the columns which are int64 data type\n",
    "df_lis.dtypes[df_lis.dtypes=='int64']"
   ]
  },
  {
   "cell_type": "code",
   "execution_count": 89,
   "metadata": {},
   "outputs": [
    {
     "data": {
      "text/plain": [
       "listing_url                         object\n",
       "last_scraped                        object\n",
       "name                                object\n",
       "summary                             object\n",
       "space                               object\n",
       "description                         object\n",
       "experiences_offered                 object\n",
       "neighborhood_overview               object\n",
       "notes                               object\n",
       "transit                             object\n",
       "thumbnail_url                       object\n",
       "medium_url                          object\n",
       "picture_url                         object\n",
       "xl_picture_url                      object\n",
       "host_url                            object\n",
       "host_name                           object\n",
       "host_since                          object\n",
       "host_location                       object\n",
       "host_about                          object\n",
       "host_response_time                  object\n",
       "host_response_rate                  object\n",
       "host_acceptance_rate                object\n",
       "host_is_superhost                   object\n",
       "host_thumbnail_url                  object\n",
       "host_picture_url                    object\n",
       "host_neighbourhood                  object\n",
       "host_verifications                  object\n",
       "host_has_profile_pic                object\n",
       "host_identity_verified              object\n",
       "street                              object\n",
       "neighbourhood                       object\n",
       "neighbourhood_cleansed              object\n",
       "neighbourhood_group_cleansed        object\n",
       "city                                object\n",
       "state                               object\n",
       "market                              object\n",
       "smart_location                      object\n",
       "country_code                        object\n",
       "country                             object\n",
       "is_location_exact                   object\n",
       "property_type                       object\n",
       "room_type                           object\n",
       "bed_type                            object\n",
       "amenities                           object\n",
       "price                               object\n",
       "weekly_price                        object\n",
       "monthly_price                       object\n",
       "security_deposit                    object\n",
       "cleaning_fee                        object\n",
       "extra_people                        object\n",
       "calendar_updated                    object\n",
       "has_availability                    object\n",
       "calendar_last_scraped               object\n",
       "first_review                        object\n",
       "last_review                         object\n",
       "requires_license                    object\n",
       "jurisdiction_names                  object\n",
       "instant_bookable                    object\n",
       "cancellation_policy                 object\n",
       "require_guest_profile_picture       object\n",
       "require_guest_phone_verification    object\n",
       "dtype: object"
      ]
     },
     "execution_count": 89,
     "metadata": {},
     "output_type": "execute_result"
    }
   ],
   "source": [
    "#Below code show the name of the columns which are object data type\n",
    "pd.set_option('display.max_rows', 92)\n",
    "df_lis.dtypes[df_lis.dtypes=='object']"
   ]
  },
  {
   "cell_type": "markdown",
   "metadata": {},
   "source": [
    "There are many columns that are considered as object, but some of they should be treated as integer or float (especially those price columns shoul be number.) This is a type change problem that I will handle later. For now I would like to know about the number missing values and number of unique inputs in each column."
   ]
  },
  {
   "cell_type": "code",
   "execution_count": 90,
   "metadata": {},
   "outputs": [
    {
     "data": {
      "text/plain": [
       "license                             243\n",
       "square_feet                         235\n",
       "monthly_price                       160\n",
       "security_deposit                    117\n",
       "weekly_price                        113\n",
       "notes                               106\n",
       "cleaning_fee                         69\n",
       "thumbnail_url                        58\n",
       "xl_picture_url                       58\n",
       "medium_url                           58\n",
       "host_about                           52\n",
       "neighborhood_overview                51\n",
       "transit                              50\n",
       "host_acceptance_rate                 49\n",
       "review_scores_accuracy               40\n",
       "review_scores_location               39\n",
       "review_scores_value                  39\n",
       "review_scores_checkin                39\n",
       "review_scores_cleanliness            38\n",
       "review_scores_rating                 38\n",
       "review_scores_communication          38\n",
       "last_review                          37\n",
       "first_review                         37\n",
       "reviews_per_month                    37\n",
       "space                                32\n",
       "host_response_rate                   30\n",
       "host_response_time                   30\n",
       "neighbourhood                        20\n",
       "host_neighbourhood                   19\n",
       "summary                               7\n",
       "has_availability                      1\n",
       "calculated_host_listings_count        1\n",
       "price                                 1\n",
       "require_guest_phone_verification      1\n",
       "require_guest_profile_picture         1\n",
       "guests_included                       1\n",
       "extra_people                          1\n",
       "minimum_nights                        1\n",
       "maximum_nights                        1\n",
       "calendar_updated                      1\n",
       "availability_30                       1\n",
       "zipcode                               1\n",
       "availability_60                       1\n",
       "availability_90                       1\n",
       "availability_365                      1\n",
       "calendar_last_scraped                 1\n",
       "number_of_reviews                     1\n",
       "cancellation_policy                   1\n",
       "instant_bookable                      1\n",
       "jurisdiction_names                    1\n",
       "requires_license                      1\n",
       "host_location                         1\n",
       "bed_type                              0\n",
       "amenities                             0\n",
       "id                                    0\n",
       "beds                                  0\n",
       "host_has_profile_pic                  0\n",
       "host_total_listings_count             0\n",
       "host_listings_count                   0\n",
       "host_picture_url                      0\n",
       "host_thumbnail_url                    0\n",
       "host_is_superhost                     0\n",
       "host_since                            0\n",
       "host_name                             0\n",
       "host_url                              0\n",
       "host_id                               0\n",
       "picture_url                           0\n",
       "experiences_offered                   0\n",
       "description                           0\n",
       "name                                  0\n",
       "last_scraped                          0\n",
       "scrape_id                             0\n",
       "host_verifications                    0\n",
       "host_identity_verified                0\n",
       "bedrooms                              0\n",
       "street                                0\n",
       "bathrooms                             0\n",
       "accommodates                          0\n",
       "room_type                             0\n",
       "property_type                         0\n",
       "is_location_exact                     0\n",
       "listing_url                           0\n",
       "latitude                              0\n",
       "country                               0\n",
       "country_code                          0\n",
       "smart_location                        0\n",
       "market                                0\n",
       "state                                 0\n",
       "city                                  0\n",
       "neighbourhood_group_cleansed          0\n",
       "neighbourhood_cleansed                0\n",
       "longitude                             0\n",
       "dtype: int64"
      ]
     },
     "execution_count": 90,
     "metadata": {},
     "output_type": "execute_result"
    }
   ],
   "source": [
    "#Below code shows the number of missing values in each column in descending order\n",
    "df_lis.isnull().sum().sort_values(ascending=False)"
   ]
  },
  {
   "cell_type": "code",
   "execution_count": 91,
   "metadata": {},
   "outputs": [
    {
     "data": {
      "text/plain": [
       "id             243\n",
       "listing_url    243\n",
       "name           243\n",
       "description    243\n",
       "picture_url    243\n",
       "latitude       243\n",
       "longitude      243\n",
       "dtype: int64"
      ]
     },
     "execution_count": 91,
     "metadata": {},
     "output_type": "execute_result"
    }
   ],
   "source": [
    "#Below code shows the columns names that do not have any missing values and all values are unique (different from each other) \n",
    "df_lis.nunique()[df_lis.nunique()==len(df_lis)]"
   ]
  },
  {
   "cell_type": "code",
   "execution_count": 92,
   "metadata": {},
   "outputs": [
    {
     "data": {
      "text/plain": [
       "summary                             236\n",
       "amenities                           236\n",
       "space                               209\n",
       "host_picture_url                    209\n",
       "host_thumbnail_url                  209\n",
       "host_id                             209\n",
       "host_url                            209\n",
       "host_since                          197\n",
       "transit                             186\n",
       "neighborhood_overview               185\n",
       "thumbnail_url                       185\n",
       "medium_url                          185\n",
       "xl_picture_url                      185\n",
       "first_review                        182\n",
       "host_name                           172\n",
       "reviews_per_month                   167\n",
       "host_about                          157\n",
       "notes                               135\n",
       "availability_365                    134\n",
       "street                              104\n",
       "last_review                          97\n",
       "price                                89\n",
       "weekly_price                         83\n",
       "number_of_reviews                    83\n",
       "availability_90                      73\n",
       "monthly_price                        59\n",
       "availability_60                      52\n",
       "cleaning_fee                         36\n",
       "host_verifications                   34\n",
       "availability_30                      31\n",
       "maximum_nights                       26\n",
       "calendar_updated                     24\n",
       "review_scores_rating                 20\n",
       "host_response_rate                   18\n",
       "security_deposit                     17\n",
       "extra_people                         14\n",
       "host_neighbourhood                   13\n",
       "accommodates                         12\n",
       "guests_included                      11\n",
       "host_location                        10\n",
       "host_listings_count                   9\n",
       "bathrooms                             9\n",
       "host_total_listings_count             9\n",
       "property_type                         9\n",
       "square_feet                           8\n",
       "minimum_nights                        8\n",
       "calculated_host_listings_count        8\n",
       "beds                                  8\n",
       "bedrooms                              7\n",
       "neighbourhood                         6\n",
       "review_scores_cleanliness             5\n",
       "review_scores_value                   4\n",
       "host_response_time                    4\n",
       "neighbourhood_cleansed                4\n",
       "zipcode                               4\n",
       "review_scores_checkin                 4\n",
       "cancellation_policy                   3\n",
       "review_scores_location                3\n",
       "review_scores_communication           3\n",
       "review_scores_accuracy                3\n",
       "room_type                             3\n",
       "bed_type                              3\n",
       "host_identity_verified                2\n",
       "host_is_superhost                     2\n",
       "is_location_exact                     2\n",
       "require_guest_phone_verification      2\n",
       "require_guest_profile_picture         2\n",
       "smart_location                        2\n",
       "instant_bookable                      2\n",
       "city                                  2\n",
       "neighbourhood_group_cleansed          2\n",
       "experiences_offered                   1\n",
       "host_acceptance_rate                  1\n",
       "jurisdiction_names                    1\n",
       "requires_license                      1\n",
       "has_availability                      1\n",
       "host_has_profile_pic                  1\n",
       "state                                 1\n",
       "market                                1\n",
       "country_code                          1\n",
       "country                               1\n",
       "calendar_last_scraped                 1\n",
       "last_scraped                          1\n",
       "scrape_id                             1\n",
       "license                               0\n",
       "dtype: int64"
      ]
     },
     "execution_count": 92,
     "metadata": {},
     "output_type": "execute_result"
    }
   ],
   "source": [
    "#Below code shows the columns names that have some missing values and number of unique values in that column\n",
    "df_lis.nunique()[df_lis.nunique() != len(df_lis)].sort_values(ascending=False)"
   ]
  },
  {
   "cell_type": "code",
   "execution_count": 93,
   "metadata": {},
   "outputs": [
    {
     "data": {
      "text/plain": [
       "0    {TV,\"Cable TV\",Internet,\"Wireless Internet\",\"A...\n",
       "1    {TV,Internet,\"Wireless Internet\",Kitchen,\"Free...\n",
       "2    {TV,\"Cable TV\",Internet,\"Wireless Internet\",\"A...\n",
       "3    {Internet,\"Wireless Internet\",Kitchen,\"Indoor ...\n",
       "4    {TV,\"Cable TV\",Internet,\"Wireless Internet\",Ki...\n",
       "Name: amenities, dtype: object"
      ]
     },
     "execution_count": 93,
     "metadata": {},
     "output_type": "execute_result"
    }
   ],
   "source": [
    "df_lis[\"amenities\"].head(5)"
   ]
  },
  {
   "cell_type": "markdown",
   "metadata": {},
   "source": [
    "#### Question-1\n",
    "\n",
    "When I look dive into the dataset, I see **amenities** column which gives detailed information about features of the listing. I would like to know what are the most common amenities that are available in Seattle Airbnb dataset. So the question is there: What are the most common amenities?"
   ]
  },
  {
   "cell_type": "markdown",
   "metadata": {},
   "source": [
    "##  2. Data Understanding"
   ]
  },
  {
   "cell_type": "markdown",
   "metadata": {},
   "source": [
    "The code in the below cell creates the list of amenties available."
   ]
  },
  {
   "cell_type": "code",
   "execution_count": 94,
   "metadata": {},
   "outputs": [],
   "source": [
    "#I first create an empty list to fill with amenities available.\n",
    "list_of_amenities = []\n",
    "\n",
    "#I create a for loop to append all amenities values from the dataset into the list.\n",
    "for i in range(len(df_lis)):\n",
    "    list_of_amenities.append(df_lis['amenities'][i])\n",
    "\n",
    "    \n",
    "#In the dataset, every listing has a list of amenities, so in order to take unique amenities from the whole dataset\n",
    "#I use the below code. I use the \"set\" function to make the amenities unique and than convert the set into a list\n",
    "#to remain consistency of data type.\n",
    "list_of_amenities = list((s.strip('\\'\\{\\}') for s in list_of_amenities))\n",
    "list_of_amenities_string = \",\".join(list_of_amenities)\n",
    "list_of_amenities = list(set(list_of_amenities_string.split(\",\")))\n",
    "\n",
    "#After execution the above lines in this cell, we have an empty string in the list of amenties.\n",
    "#We have to remove that one from the list.\n",
    "without_empty_list_of_amenities = []\n",
    "for string in list_of_amenities:\n",
    "    if (string != \"\"):\n",
    "        without_empty_list_of_amenities.append(string)\n",
    "list_of_amenities = without_empty_list_of_amenities"
   ]
  },
  {
   "cell_type": "markdown",
   "metadata": {},
   "source": [
    "The code in the below cell is taken from one of the Udacity lecture notes (named: HowToBreakIntoTheField.py).\n",
    "This function is used to count the number of listings that contains each amenity in the amenities list."
   ]
  },
  {
   "cell_type": "code",
   "execution_count": 95,
   "metadata": {},
   "outputs": [],
   "source": [
    "def total_count(df, col1, col2, look_for):\n",
    "    '''\n",
    "    INPUT:\n",
    "    df - the pandas dataframe you want to search\n",
    "    col1 - the column name you want to look through\n",
    "    col2 - the column you want to count values from\n",
    "    look_for - a list of strings you want to search for in each row of df[col]\n",
    "\n",
    "    OUTPUT:\n",
    "    new_df - a dataframe of each look_for with the count of how often it shows up\n",
    "    '''\n",
    "    new_df = defaultdict(int)\n",
    "    #loop through list of amenities\n",
    "    for val in look_for:\n",
    "        #loop through rows\n",
    "        for idx in range(df.shape[0]):\n",
    "            #if the amenity is in the row add 1\n",
    "            if val in df[col1][idx]:\n",
    "                new_df[val] += int(df[col2][idx])\n",
    "    new_df = pd.DataFrame(pd.Series(new_df)).reset_index()\n",
    "    new_df.columns = [col1, col2]\n",
    "    new_df.sort_values('count', ascending=False, inplace=True)\n",
    "    return new_df"
   ]
  },
  {
   "cell_type": "code",
   "execution_count": 96,
   "metadata": {},
   "outputs": [
    {
     "data": {
      "text/plain": [
       "Index(['id', 'listing_url', 'scrape_id', 'last_scraped', 'name', 'summary',\n",
       "       'space', 'description', 'experiences_offered', 'neighborhood_overview',\n",
       "       'notes', 'transit', 'thumbnail_url', 'medium_url', 'picture_url',\n",
       "       'xl_picture_url', 'host_id', 'host_url', 'host_name', 'host_since',\n",
       "       'host_location', 'host_about', 'host_response_time',\n",
       "       'host_response_rate', 'host_acceptance_rate', 'host_is_superhost',\n",
       "       'host_thumbnail_url', 'host_picture_url', 'host_neighbourhood',\n",
       "       'host_listings_count', 'host_total_listings_count',\n",
       "       'host_verifications', 'host_has_profile_pic', 'host_identity_verified',\n",
       "       'street', 'neighbourhood', 'neighbourhood_cleansed',\n",
       "       'neighbourhood_group_cleansed', 'city', 'state', 'zipcode', 'market',\n",
       "       'smart_location', 'country_code', 'country', 'latitude', 'longitude',\n",
       "       'is_location_exact', 'property_type', 'room_type', 'accommodates',\n",
       "       'bathrooms', 'bedrooms', 'beds', 'bed_type', 'amenities', 'square_feet',\n",
       "       'price', 'weekly_price', 'monthly_price', 'security_deposit',\n",
       "       'cleaning_fee', 'guests_included', 'extra_people', 'minimum_nights',\n",
       "       'maximum_nights', 'calendar_updated', 'has_availability',\n",
       "       'availability_30', 'availability_60', 'availability_90',\n",
       "       'availability_365', 'calendar_last_scraped', 'number_of_reviews',\n",
       "       'first_review', 'last_review', 'review_scores_rating',\n",
       "       'review_scores_accuracy', 'review_scores_cleanliness',\n",
       "       'review_scores_checkin', 'review_scores_communication',\n",
       "       'review_scores_location', 'review_scores_value', 'requires_license',\n",
       "       'license', 'jurisdiction_names', 'instant_bookable',\n",
       "       'cancellation_policy', 'require_guest_profile_picture',\n",
       "       'require_guest_phone_verification', 'calculated_host_listings_count',\n",
       "       'reviews_per_month'],\n",
       "      dtype='object')"
      ]
     },
     "execution_count": 96,
     "metadata": {},
     "output_type": "execute_result"
    }
   ],
   "source": [
    "df_lis.columns"
   ]
  },
  {
   "cell_type": "code",
   "execution_count": 97,
   "metadata": {},
   "outputs": [
    {
     "data": {
      "text/html": [
       "<div>\n",
       "<style scoped>\n",
       "    .dataframe tbody tr th:only-of-type {\n",
       "        vertical-align: middle;\n",
       "    }\n",
       "\n",
       "    .dataframe tbody tr th {\n",
       "        vertical-align: top;\n",
       "    }\n",
       "\n",
       "    .dataframe thead th {\n",
       "        text-align: right;\n",
       "    }\n",
       "</style>\n",
       "<table border=\"1\" class=\"dataframe\">\n",
       "  <thead>\n",
       "    <tr style=\"text-align: right;\">\n",
       "      <th></th>\n",
       "      <th>amenities</th>\n",
       "      <th>count</th>\n",
       "    </tr>\n",
       "  </thead>\n",
       "  <tbody>\n",
       "    <tr>\n",
       "      <th>0</th>\n",
       "      <td>{}</td>\n",
       "      <td>3</td>\n",
       "    </tr>\n",
       "    <tr>\n",
       "      <th>1</th>\n",
       "      <td>{TV,Internet,\"Wireless Internet\",Kitchen,\"Free...</td>\n",
       "      <td>2</td>\n",
       "    </tr>\n",
       "    <tr>\n",
       "      <th>2</th>\n",
       "      <td>{TV,Internet,\"Wireless Internet\",Kitchen,\"Free...</td>\n",
       "      <td>2</td>\n",
       "    </tr>\n",
       "    <tr>\n",
       "      <th>3</th>\n",
       "      <td>{TV,Internet,\"Wireless Internet\",Kitchen,\"Free...</td>\n",
       "      <td>2</td>\n",
       "    </tr>\n",
       "    <tr>\n",
       "      <th>4</th>\n",
       "      <td>{\"Wireless Internet\",\"Pets live on this proper...</td>\n",
       "      <td>2</td>\n",
       "    </tr>\n",
       "    <tr>\n",
       "      <th>...</th>\n",
       "      <td>...</td>\n",
       "      <td>...</td>\n",
       "    </tr>\n",
       "    <tr>\n",
       "      <th>231</th>\n",
       "      <td>{Internet,\"Wireless Internet\",Heating,\"Smoke D...</td>\n",
       "      <td>1</td>\n",
       "    </tr>\n",
       "    <tr>\n",
       "      <th>232</th>\n",
       "      <td>{TV,\"Cable TV\",Internet,\"Wireless Internet\",Ki...</td>\n",
       "      <td>1</td>\n",
       "    </tr>\n",
       "    <tr>\n",
       "      <th>233</th>\n",
       "      <td>{\"Wireless Internet\",Kitchen,\"Free Parking on ...</td>\n",
       "      <td>1</td>\n",
       "    </tr>\n",
       "    <tr>\n",
       "      <th>234</th>\n",
       "      <td>{TV,Internet,\"Wireless Internet\",Kitchen,Heati...</td>\n",
       "      <td>1</td>\n",
       "    </tr>\n",
       "    <tr>\n",
       "      <th>235</th>\n",
       "      <td>{TV,Internet,\"Wireless Internet\",\"Pets Allowed...</td>\n",
       "      <td>1</td>\n",
       "    </tr>\n",
       "  </tbody>\n",
       "</table>\n",
       "<p>236 rows × 2 columns</p>\n",
       "</div>"
      ],
      "text/plain": [
       "                                             amenities  count\n",
       "0                                                   {}      3\n",
       "1    {TV,Internet,\"Wireless Internet\",Kitchen,\"Free...      2\n",
       "2    {TV,Internet,\"Wireless Internet\",Kitchen,\"Free...      2\n",
       "3    {TV,Internet,\"Wireless Internet\",Kitchen,\"Free...      2\n",
       "4    {\"Wireless Internet\",\"Pets live on this proper...      2\n",
       "..                                                 ...    ...\n",
       "231  {Internet,\"Wireless Internet\",Heating,\"Smoke D...      1\n",
       "232  {TV,\"Cable TV\",Internet,\"Wireless Internet\",Ki...      1\n",
       "233  {\"Wireless Internet\",Kitchen,\"Free Parking on ...      1\n",
       "234  {TV,Internet,\"Wireless Internet\",Kitchen,Heati...      1\n",
       "235  {TV,Internet,\"Wireless Internet\",\"Pets Allowed...      1\n",
       "\n",
       "[236 rows x 2 columns]"
      ]
     },
     "execution_count": 97,
     "metadata": {},
     "output_type": "execute_result"
    }
   ],
   "source": [
    "study"
   ]
  },
  {
   "cell_type": "code",
   "execution_count": 98,
   "metadata": {
    "scrolled": true
   },
   "outputs": [
    {
     "data": {
      "text/html": [
       "<div>\n",
       "<style scoped>\n",
       "    .dataframe tbody tr th:only-of-type {\n",
       "        vertical-align: middle;\n",
       "    }\n",
       "\n",
       "    .dataframe tbody tr th {\n",
       "        vertical-align: top;\n",
       "    }\n",
       "\n",
       "    .dataframe thead th {\n",
       "        text-align: right;\n",
       "    }\n",
       "</style>\n",
       "<table border=\"1\" class=\"dataframe\">\n",
       "  <thead>\n",
       "    <tr style=\"text-align: right;\">\n",
       "      <th></th>\n",
       "      <th>amenities</th>\n",
       "      <th>count</th>\n",
       "    </tr>\n",
       "  </thead>\n",
       "  <tbody>\n",
       "    <tr>\n",
       "      <th>0</th>\n",
       "      <td>{}</td>\n",
       "      <td>3</td>\n",
       "    </tr>\n",
       "    <tr>\n",
       "      <th>1</th>\n",
       "      <td>{TV,Internet,\"Wireless Internet\",Kitchen,\"Free...</td>\n",
       "      <td>2</td>\n",
       "    </tr>\n",
       "    <tr>\n",
       "      <th>2</th>\n",
       "      <td>{TV,Internet,\"Wireless Internet\",Kitchen,\"Free...</td>\n",
       "      <td>2</td>\n",
       "    </tr>\n",
       "    <tr>\n",
       "      <th>3</th>\n",
       "      <td>{TV,Internet,\"Wireless Internet\",Kitchen,\"Free...</td>\n",
       "      <td>2</td>\n",
       "    </tr>\n",
       "    <tr>\n",
       "      <th>4</th>\n",
       "      <td>{\"Wireless Internet\",\"Pets live on this proper...</td>\n",
       "      <td>2</td>\n",
       "    </tr>\n",
       "    <tr>\n",
       "      <th>...</th>\n",
       "      <td>...</td>\n",
       "      <td>...</td>\n",
       "    </tr>\n",
       "    <tr>\n",
       "      <th>231</th>\n",
       "      <td>{Internet,\"Wireless Internet\",Heating,\"Smoke D...</td>\n",
       "      <td>1</td>\n",
       "    </tr>\n",
       "    <tr>\n",
       "      <th>232</th>\n",
       "      <td>{TV,\"Cable TV\",Internet,\"Wireless Internet\",Ki...</td>\n",
       "      <td>1</td>\n",
       "    </tr>\n",
       "    <tr>\n",
       "      <th>233</th>\n",
       "      <td>{\"Wireless Internet\",Kitchen,\"Free Parking on ...</td>\n",
       "      <td>1</td>\n",
       "    </tr>\n",
       "    <tr>\n",
       "      <th>234</th>\n",
       "      <td>{TV,Internet,\"Wireless Internet\",Kitchen,Heati...</td>\n",
       "      <td>1</td>\n",
       "    </tr>\n",
       "    <tr>\n",
       "      <th>235</th>\n",
       "      <td>{TV,Internet,\"Wireless Internet\",\"Pets Allowed...</td>\n",
       "      <td>1</td>\n",
       "    </tr>\n",
       "  </tbody>\n",
       "</table>\n",
       "<p>236 rows × 2 columns</p>\n",
       "</div>"
      ],
      "text/plain": [
       "                                             amenities  count\n",
       "0                                                   {}      3\n",
       "1    {TV,Internet,\"Wireless Internet\",Kitchen,\"Free...      2\n",
       "2    {TV,Internet,\"Wireless Internet\",Kitchen,\"Free...      2\n",
       "3    {TV,Internet,\"Wireless Internet\",Kitchen,\"Free...      2\n",
       "4    {\"Wireless Internet\",\"Pets live on this proper...      2\n",
       "..                                                 ...    ...\n",
       "231  {Internet,\"Wireless Internet\",Heating,\"Smoke D...      1\n",
       "232  {TV,\"Cable TV\",Internet,\"Wireless Internet\",Ki...      1\n",
       "233  {\"Wireless Internet\",Kitchen,\"Free Parking on ...      1\n",
       "234  {TV,Internet,\"Wireless Internet\",Kitchen,Heati...      1\n",
       "235  {TV,Internet,\"Wireless Internet\",\"Pets Allowed...      1\n",
       "\n",
       "[236 rows x 2 columns]"
      ]
     },
     "execution_count": 98,
     "metadata": {},
     "output_type": "execute_result"
    }
   ],
   "source": [
    "df_lis['amenities'].value_counts().reset_index()"
   ]
  },
  {
   "cell_type": "code",
   "execution_count": 99,
   "metadata": {},
   "outputs": [
    {
     "data": {
      "image/png": "[encoded data removed]",
      "text/plain": [
       "<Figure size 640x480 with 1 Axes>"
      ]
     },
     "metadata": {},
     "output_type": "display_data"
    }
   ],
   "source": [
    "#I create a dataframe named study, which has lists of amenities as one column and the count of these amenities lists\n",
    "#in our main (df_lis)\n",
    "study = df_lis['amenities'].value_counts().reset_index()\n",
    "#study.rename(columns={'index': 'amenities', 'amenities': 'count'}, inplace=True)\n",
    "\n",
    "#Here with the total_count function, I count the number of listings that contains each amenity in the amenities list.\n",
    "study_df = total_count(study, 'amenities', 'count', list_of_amenities)\n",
    "study_df.set_index('amenities', inplace=True)\n",
    "\n",
    "#Here I create a bar chart to show the percentage of each amenity from the most common to the least common.\n",
    "(study_df/len(df_lis))[:20].plot(kind='bar', legend=None);\n",
    "plt.title('Top 20 Most Common Amenities in The Dataset');\n",
    "plt.ylabel('How many percent of listings has the amenity')\n",
    "plt.show()"
   ]
  },
  {
   "cell_type": "markdown",
   "metadata": {},
   "source": [
    "In the above chart you can see that the most common amenities in Seattle listings are:\n",
    "- Internet\n",
    "- Wireless Internet\n",
    "- Heating\n",
    "- Smoke Detector\n",
    "- Essentials\n",
    "\n",
    "\n",
    "\n",
    "Whereas the least common amenities in Seattle listings are:\n",
    "- Lock on Bedroom Door\n",
    "- Doorman\n",
    "- Smoking Allowed\n",
    "- Other pet(s)\n",
    "- Washer / Dryer"
   ]
  },
  {
   "cell_type": "markdown",
   "metadata": {},
   "source": [
    "#### Question-2\n",
    "\n",
    "When I look dive into the dataset, I see some important features of listings. Some of these features have seperate columns (for example property_type or room_type) and some of these features are in **amenities** column. What I would like to know about this dataset is, \"What attracts the guests most for renting a property?\". I will try to answer this question below.\n",
    "\n",
    "In order to understand the popularity of a listing I will use the **availability_30** column. Because it gives an idea about the booking ratio (or popularity) of the property."
   ]
  },
  {
   "cell_type": "code",
   "execution_count": 100,
   "metadata": {},
   "outputs": [
    {
     "data": {
      "text/plain": [
       "0      14.0\n",
       "1      13.0\n",
       "2       1.0\n",
       "3       0.0\n",
       "4      30.0\n",
       "       ... \n",
       "238     0.0\n",
       "239    30.0\n",
       "240     3.0\n",
       "241    23.0\n",
       "242     NaN\n",
       "Name: availability_30, Length: 243, dtype: float64"
      ]
     },
     "execution_count": 100,
     "metadata": {},
     "output_type": "execute_result"
    }
   ],
   "source": [
    "df_lis[\"availability_30\"]"
   ]
  },
  {
   "cell_type": "code",
   "execution_count": 101,
   "metadata": {},
   "outputs": [
    {
     "data": {
      "text/plain": [
       "1"
      ]
     },
     "execution_count": 101,
     "metadata": {},
     "output_type": "execute_result"
    }
   ],
   "source": [
    "#Check if availability_30 column has an missing values. I will use this columns for booking_ratio_30.\n",
    "df_lis['availability_30'].isnull().sum()"
   ]
  },
  {
   "cell_type": "code",
   "execution_count": 102,
   "metadata": {},
   "outputs": [],
   "source": [
    "df_lis[\"availability_30\"] = df_lis[\"availability_30\"].fillna(df_lis[\"availability_30\"].median())"
   ]
  },
  {
   "cell_type": "code",
   "execution_count": 103,
   "metadata": {},
   "outputs": [],
   "source": [
    "#Check if availability_30 column has an missing values. I will use this columns for booking_ratio_30.\n",
    "df_lis['availability_30'].isnull().sum();"
   ]
  },
  {
   "cell_type": "code",
   "execution_count": 104,
   "metadata": {},
   "outputs": [],
   "source": [
    "#Below code, creates the column 'booking_ratio_30' which gives info about the booking percentage in the next 30 days\n",
    "df_lis['booking_ratio_30'] = 1 - (df_lis['availability_30']/30)"
   ]
  },
  {
   "cell_type": "code",
   "execution_count": 105,
   "metadata": {},
   "outputs": [
    {
     "data": {
      "text/plain": [
       "0    0.533333\n",
       "1    0.566667\n",
       "2    0.966667\n",
       "3    1.000000\n",
       "4    0.000000\n",
       "Name: booking_ratio_30, dtype: float64"
      ]
     },
     "execution_count": 105,
     "metadata": {},
     "output_type": "execute_result"
    }
   ],
   "source": [
    "#Show the first five rows of the new column\n",
    "df_lis['booking_ratio_30'].head()"
   ]
  },
  {
   "cell_type": "markdown",
   "metadata": {},
   "source": [
    "Above, I found a percantage on booking ratio of each listing. Now I will have to make seperate columns for each of the features that I will investige whether they attract the guests for choosing the listing to rent.\n",
    "\n",
    "First feature I would like to investigate is **room_type**."
   ]
  },
  {
   "cell_type": "code",
   "execution_count": 106,
   "metadata": {},
   "outputs": [
    {
     "data": {
      "text/plain": [
       "0"
      ]
     },
     "execution_count": 106,
     "metadata": {},
     "output_type": "execute_result"
    }
   ],
   "source": [
    "#Below code checks if the 'room_type' column has any missing values.\n",
    "#Since the result of the code is zero, the column does not have any missing values. \n",
    "df_lis['room_type'].isnull().sum()"
   ]
  },
  {
   "cell_type": "code",
   "execution_count": 107,
   "metadata": {},
   "outputs": [
    {
     "data": {
      "text/plain": [
       "room_type\n",
       "Entire home/apt    173\n",
       "Private room        69\n",
       "Shared room          1\n",
       "Name: count, dtype: int64"
      ]
     },
     "execution_count": 107,
     "metadata": {},
     "output_type": "execute_result"
    }
   ],
   "source": [
    "#Below code shows the number of each unique values in the 'room_type' column.\n",
    "df_lis['room_type'].value_counts().sort_values(ascending=False)"
   ]
  },
  {
   "cell_type": "markdown",
   "metadata": {},
   "source": [
    "Above, I found that there is not any missing values in the room_type column and also there are three different types of rooms. How about these different rooms booking ratios?"
   ]
  },
  {
   "cell_type": "code",
   "execution_count": 108,
   "metadata": {},
   "outputs": [
    {
     "data": {
      "text/plain": [
       "room_type\n",
       "Entire home/apt    0.524374\n",
       "Private room       0.412077\n",
       "Shared room        0.000000\n",
       "Name: booking_ratio_30, dtype: float64"
      ]
     },
     "execution_count": 108,
     "metadata": {},
     "output_type": "execute_result"
    }
   ],
   "source": [
    "#Below code shows information about booking ratios of different room types for next 30 days\n",
    "df_lis.groupby(['room_type'])['booking_ratio_30'].mean().sort_values(ascending=False)"
   ]
  },
  {
   "cell_type": "code",
   "execution_count": 109,
   "metadata": {},
   "outputs": [
    {
     "data": {
      "image/png": "[encoded data removed]",
      "text/plain": [
       "<Figure size 640x480 with 1 Axes>"
      ]
     },
     "metadata": {},
     "output_type": "display_data"
    }
   ],
   "source": [
    "#Below code plots a bar chart to visualize booking ratios of different room types for next 30 days\n",
    "(df_lis.groupby(['room_type'])['booking_ratio_30'].mean().sort_values(ascending=False)).plot(kind='bar', legend=None)\n",
    "plt.title('Booking Ratio for Next 30 Days Depending On room_type');\n",
    "plt.show()"
   ]
  },
  {
   "cell_type": "code",
   "execution_count": 110,
   "metadata": {},
   "outputs": [
    {
     "data": {
      "text/plain": [
       "property_type\n",
       "House          119\n",
       "Apartment       99\n",
       "Townhouse       10\n",
       "Condominium      5\n",
       "Camper/RV        3\n",
       "Bungalow         3\n",
       "Cabin            2\n",
       "Loft             1\n",
       "Boat             1\n",
       "Name: count, dtype: int64"
      ]
     },
     "execution_count": 110,
     "metadata": {},
     "output_type": "execute_result"
    }
   ],
   "source": [
    "#Below code shows the unique property types and count of each one\n",
    "df_lis['property_type'].value_counts().sort_values(ascending=False)"
   ]
  },
  {
   "cell_type": "code",
   "execution_count": 111,
   "metadata": {},
   "outputs": [
    {
     "data": {
      "text/plain": [
       "property_type\n",
       "Apartment      0.525758\n",
       "Townhouse      0.513333\n",
       "House          0.480112\n",
       "Cabin          0.466667\n",
       "Condominium    0.460000\n",
       "Loft           0.433333\n",
       "Camper/RV      0.244444\n",
       "Bungalow       0.144444\n",
       "Boat           0.000000\n",
       "Name: booking_ratio_30, dtype: float64"
      ]
     },
     "execution_count": 111,
     "metadata": {},
     "output_type": "execute_result"
    }
   ],
   "source": [
    "#Below code shows information about booking ratios of different property types for next 30 days\n",
    "df_lis.groupby(['property_type'])['booking_ratio_30'].mean().sort_values(ascending=False)"
   ]
  },
  {
   "cell_type": "code",
   "execution_count": 112,
   "metadata": {},
   "outputs": [
    {
     "data": {
      "image/png": "[encoded data removed]",
      "text/plain": [
       "<Figure size 640x480 with 1 Axes>"
      ]
     },
     "metadata": {},
     "output_type": "display_data"
    }
   ],
   "source": [
    "#Below code plots the booking ratios of different property types for next 30 days\n",
    "(df_lis.groupby(['property_type'])['booking_ratio_30'].mean().sort_values(ascending=False)).plot(kind='bar', legend=None)\n",
    "plt.title('Booking Ratio for Next 30 Days Depending On property_type');\n",
    "plt.show()"
   ]
  },
  {
   "cell_type": "markdown",
   "metadata": {},
   "source": [
    "How about the **amenities** and their effect for attracting the guest? In order to answer the first question I had created the list of amenities which will be useful here to answer the second question."
   ]
  },
  {
   "cell_type": "code",
   "execution_count": 113,
   "metadata": {
    "scrolled": true
   },
   "outputs": [
    {
     "data": {
      "text/plain": [
       "0"
      ]
     },
     "execution_count": 113,
     "metadata": {},
     "output_type": "execute_result"
    }
   ],
   "source": [
    "#Check if amenities column has an missing values.\n",
    "df_lis['amenities'].isnull().sum()"
   ]
  },
  {
   "cell_type": "code",
   "execution_count": 114,
   "metadata": {},
   "outputs": [],
   "source": [
    "#Here I create new columns for each of the amenities and fill them all with zeros.\n",
    "for i in range(len(list_of_amenities)):\n",
    "    df_lis[list_of_amenities[i]] = 0"
   ]
  },
  {
   "cell_type": "code",
   "execution_count": 115,
   "metadata": {},
   "outputs": [],
   "source": [
    "#Here I fill the new amenities columns, by first checking if the listing has that amenity.\n",
    "#If the listing has that amenity I fill it with 1 and if it does not have it, I fill it with zero.\n",
    "for i in range(len(list_of_amenities)):\n",
    "    for t in range(len(df_lis)):\n",
    "        if list_of_amenities[i] in df_lis['amenities'][t]:\n",
    "            df_lis.loc[t , list_of_amenities[i]] = 1\n",
    "        else:\n",
    "            df_lis.loc[t , list_of_amenities[i]] = 0"
   ]
  },
  {
   "cell_type": "code",
   "execution_count": 116,
   "metadata": {},
   "outputs": [],
   "source": [
    "#Here I create a dataframe that will contain information about booking ratio of listings that contain the amenity.\n",
    "amenities_importance = pd.DataFrame(index=range(0,len(list_of_amenities)), columns = [\"Amenity_Name\", \"Booking Ratio for HAVING the Amenity\", \"Booking Ratio for NOT HAVING the Amenity\", \"Booking Difference\"])\n",
    "\n",
    "\n",
    "#In the below for loop, I write the name of the amenity, calculate the booking ratio of listings that contain the amenitiy\n",
    "#and calculate the booking ratio of listings that do not contain the amenitiy\n",
    "#and calculate the difference between booking ratios for each amenity. \n",
    "for i in range(len(list_of_amenities)):\n",
    "    amenities_importance['Amenity_Name'][i] = list_of_amenities[i]\n",
    "    amenities_importance['Booking Ratio for HAVING the Amenity'][i] = df_lis.groupby([list_of_amenities[i]])['booking_ratio_30'].mean()[1]\n",
    "    amenities_importance['Booking Ratio for NOT HAVING the Amenity'][i] = df_lis.groupby([list_of_amenities[i]])['booking_ratio_30'].mean()[0]\n",
    "    amenities_importance['Booking Difference'][i] = amenities_importance['Booking Ratio for HAVING the Amenity'][i] - amenities_importance['Booking Ratio for NOT HAVING the Amenity'][i]\n",
    "\n",
    "amenities_importance.set_index('Amenity_Name', inplace=True)"
   ]
  },
  {
   "cell_type": "code",
   "execution_count": 117,
   "metadata": {},
   "outputs": [
    {
     "data": {
      "text/html": [
       "<div>\n",
       "<style scoped>\n",
       "    .dataframe tbody tr th:only-of-type {\n",
       "        vertical-align: middle;\n",
       "    }\n",
       "\n",
       "    .dataframe tbody tr th {\n",
       "        vertical-align: top;\n",
       "    }\n",
       "\n",
       "    .dataframe thead th {\n",
       "        text-align: right;\n",
       "    }\n",
       "</style>\n",
       "<table border=\"1\" class=\"dataframe\">\n",
       "  <thead>\n",
       "    <tr style=\"text-align: right;\">\n",
       "      <th></th>\n",
       "      <th>Booking Ratio for HAVING the Amenity</th>\n",
       "      <th>Booking Ratio for NOT HAVING the Amenity</th>\n",
       "      <th>Booking Difference</th>\n",
       "    </tr>\n",
       "    <tr>\n",
       "      <th>Amenity_Name</th>\n",
       "      <th></th>\n",
       "      <th></th>\n",
       "      <th></th>\n",
       "    </tr>\n",
       "  </thead>\n",
       "  <tbody>\n",
       "    <tr>\n",
       "      <th>Kitchen</th>\n",
       "      <td>0.514815</td>\n",
       "      <td>0.349537</td>\n",
       "      <td>0.165278</td>\n",
       "    </tr>\n",
       "    <tr>\n",
       "      <th>\"Hot Tub\"</th>\n",
       "      <td>0.624242</td>\n",
       "      <td>0.48398</td>\n",
       "      <td>0.140263</td>\n",
       "    </tr>\n",
       "    <tr>\n",
       "      <th>Washer</th>\n",
       "      <td>0.523389</td>\n",
       "      <td>0.393817</td>\n",
       "      <td>0.129571</td>\n",
       "    </tr>\n",
       "    <tr>\n",
       "      <th>Dryer</th>\n",
       "      <td>0.51117</td>\n",
       "      <td>0.419091</td>\n",
       "      <td>0.092079</td>\n",
       "    </tr>\n",
       "    <tr>\n",
       "      <th>\"Wireless Internet\"</th>\n",
       "      <td>0.492194</td>\n",
       "      <td>0.416667</td>\n",
       "      <td>0.075527</td>\n",
       "    </tr>\n",
       "    <tr>\n",
       "      <th>\"Smoke Detector\"</th>\n",
       "      <td>0.499444</td>\n",
       "      <td>0.432323</td>\n",
       "      <td>0.067121</td>\n",
       "    </tr>\n",
       "    <tr>\n",
       "      <th>\"Cable TV\"</th>\n",
       "      <td>0.524275</td>\n",
       "      <td>0.469647</td>\n",
       "      <td>0.054629</td>\n",
       "    </tr>\n",
       "    <tr>\n",
       "      <th>\"Family/Kid Friendly\"</th>\n",
       "      <td>0.514961</td>\n",
       "      <td>0.463362</td>\n",
       "      <td>0.051599</td>\n",
       "    </tr>\n",
       "    <tr>\n",
       "      <th>Cat(s)</th>\n",
       "      <td>0.532</td>\n",
       "      <td>0.48555</td>\n",
       "      <td>0.04645</td>\n",
       "    </tr>\n",
       "    <tr>\n",
       "      <th>\"Free Parking on Premises\"</th>\n",
       "      <td>0.506452</td>\n",
       "      <td>0.461932</td>\n",
       "      <td>0.04452</td>\n",
       "    </tr>\n",
       "  </tbody>\n",
       "</table>\n",
       "</div>"
      ],
      "text/plain": [
       "                           Booking Ratio for HAVING the Amenity  \\\n",
       "Amenity_Name                                                      \n",
       "Kitchen                                                0.514815   \n",
       "\"Hot Tub\"                                              0.624242   \n",
       "Washer                                                 0.523389   \n",
       "Dryer                                                   0.51117   \n",
       "\"Wireless Internet\"                                    0.492194   \n",
       "\"Smoke Detector\"                                       0.499444   \n",
       "\"Cable TV\"                                             0.524275   \n",
       "\"Family/Kid Friendly\"                                  0.514961   \n",
       "Cat(s)                                                    0.532   \n",
       "\"Free Parking on Premises\"                             0.506452   \n",
       "\n",
       "                           Booking Ratio for NOT HAVING the Amenity  \\\n",
       "Amenity_Name                                                          \n",
       "Kitchen                                                    0.349537   \n",
       "\"Hot Tub\"                                                   0.48398   \n",
       "Washer                                                     0.393817   \n",
       "Dryer                                                      0.419091   \n",
       "\"Wireless Internet\"                                        0.416667   \n",
       "\"Smoke Detector\"                                           0.432323   \n",
       "\"Cable TV\"                                                 0.469647   \n",
       "\"Family/Kid Friendly\"                                      0.463362   \n",
       "Cat(s)                                                      0.48555   \n",
       "\"Free Parking on Premises\"                                 0.461932   \n",
       "\n",
       "                           Booking Difference  \n",
       "Amenity_Name                                   \n",
       "Kitchen                              0.165278  \n",
       "\"Hot Tub\"                            0.140263  \n",
       "Washer                               0.129571  \n",
       "Dryer                                0.092079  \n",
       "\"Wireless Internet\"                  0.075527  \n",
       "\"Smoke Detector\"                     0.067121  \n",
       "\"Cable TV\"                           0.054629  \n",
       "\"Family/Kid Friendly\"                0.051599  \n",
       "Cat(s)                                0.04645  \n",
       "\"Free Parking on Premises\"            0.04452  "
      ]
     },
     "execution_count": 117,
     "metadata": {},
     "output_type": "execute_result"
    }
   ],
   "source": [
    "\n",
    "#Here I list the Top 10 booking difference to see which amenities are most prefered by guests.\n",
    "amenities_importance.sort_values(by='Booking Difference', ascending = False)[:10]"
   ]
  },
  {
   "cell_type": "code",
   "execution_count": 118,
   "metadata": {
    "scrolled": true
   },
   "outputs": [
    {
     "data": {
      "image/png": "[encoded data removed]",
      "text/plain": [
       "<Figure size 640x480 with 1 Axes>"
      ]
     },
     "metadata": {},
     "output_type": "display_data"
    }
   ],
   "source": [
    "#Here I draw a bar chart to visualize which amenities are most prefered by guests.\n",
    "amenities_importance['Booking Difference'].sort_values(ascending = False)[:10].plot(kind='bar', legend=None)\n",
    "plt.title('Most Popular Amenities');\n",
    "plt.ylabel('Booking Ratio Difference for Next 30 Days')\n",
    "plt.show()"
   ]
  },
  {
   "cell_type": "code",
   "execution_count": 119,
   "metadata": {},
   "outputs": [
    {
     "data": {
      "image/png": "[encoded data removed]",
      "text/plain": [
       "<Figure size 640x480 with 1 Axes>"
      ]
     },
     "metadata": {},
     "output_type": "display_data"
    }
   ],
   "source": [
    "#Here I draw a bar chart to visualize which amenities are least prefered by guests.\n",
    "amenities_importance['Booking Difference'].sort_values(ascending = True)[:10].plot(kind='bar', legend=None)\n",
    "plt.title('Least Popular Amenities');\n",
    "plt.ylabel('Booking Ratio Difference for Next 30 Days')\n",
    "plt.show()"
   ]
  },
  {
   "cell_type": "markdown",
   "metadata": {},
   "source": [
    "So for the answer of Question-2 (\"What attracts the guests most for renting a property?\") we can say that having a Washer/Dryer increases the booking rate for next 30 days more than 15%. Also having a kitchen and allowing pets are good ideas for increasing the popularity for a listing.\n",
    "\n",
    "Also when comparing different room_types, an \"Entire home/apt\" is more than 10% more popular than a private room or a shared room.\n",
    "It looks like having a pool or serving breakfast does not help a listing to be preferred, probably because of the increased price with these amenities."
   ]
  },
  {
   "cell_type": "markdown",
   "metadata": {},
   "source": [
    "## 3. Data Preparation"
   ]
  },
  {
   "cell_type": "markdown",
   "metadata": {},
   "source": [
    "#### Question-3\n",
    "\n",
    "There are so many features in the dataset, that has effect on the price of the listing. In the third question I would like to train a model to estimate the price of a listing. So the question I would like to answer is: How can we estimate the price of a listing, what are the most influencial features of the dataset to estimate the price of a listing."
   ]
  },
  {
   "cell_type": "markdown",
   "metadata": {},
   "source": [
    "First I would like to know about the number of missing values in the features that are related to price."
   ]
  },
  {
   "cell_type": "code",
   "execution_count": 120,
   "metadata": {},
   "outputs": [
    {
     "name": "stdout",
     "output_type": "stream",
     "text": [
      "1\n",
      "113\n",
      "160\n",
      "117\n",
      "69\n"
     ]
    }
   ],
   "source": [
    "print(df_lis['price'].isnull().sum())\n",
    "print(df_lis['weekly_price'].isnull().sum())\n",
    "print(df_lis['monthly_price'].isnull().sum())\n",
    "print(df_lis['security_deposit'].isnull().sum())\n",
    "print(df_lis['cleaning_fee'].isnull().sum())"
   ]
  },
  {
   "cell_type": "markdown",
   "metadata": {},
   "source": [
    "There are five different prices in the dataset, which are listed below.\n",
    "- price\n",
    "- weekly_price\n",
    "- monthly_price\n",
    "- security_deposit\n",
    "- cleaning_fee\n",
    "\n",
    "In the code cell above, I find the number of null values in each column. As can be seen, some of the listings do not have weekly or monthly price. So it is a better idea to model the \"price\" because of larger sample size.\n",
    "I will not take into account the security deposit and cleaning fee."
   ]
  },
  {
   "cell_type": "code",
   "execution_count": 121,
   "metadata": {},
   "outputs": [],
   "source": [
    "#Below, I made a list of important features in my opinion for estimating the price of a listing and created\n",
    "#a sub-dataframe of listings dataframe.\n",
    "\n",
    "#In order to answer the first question, I made columns for amenities categorical value, I will use all amenities columns\n",
    "#I created there.\n",
    "\n",
    "features_of_interest = ['bathrooms', 'bedrooms', 'beds', 'latitude', 'longitude', 'square_feet', 'reviews_per_month',\n",
    "        'booking_ratio_30', 'accommodates', 'guests_included', '\"24-Hour Check-in\"', '\"Suitable for Events\"',\n",
    "       '\"Pets live on this property\"', 'Dog(s)', \n",
    "        'Essentials', '\"Wireless Internet\"',\n",
    "       '\"Buzzer/Wireless Intercom\"', 'TV', 'Gym',  \n",
    "       '\"Hot Tub\"', '\"Air Conditioning\"', '\"Pets Allowed\"', \n",
    "       '\"Hair Dryer\"', '\"Fire Extinguisher\"', 'Breakfast', \n",
    "       '\"Laptop Friendly Workspace\"', '\"Free Parking on Premises\"',\n",
    "       '\"Lock on Bedroom Door\"', 'Cat(s)', 'Hangers', '\"Family/Kid Friendly\"',\n",
    "       '\"Carbon Monoxide Detector\"', '\"Safety Card\"', 'Kitchen',\n",
    "       '\"Elevator in Building\"', 'Internet', 'Shampoo', '\"Smoke Detector\"',\n",
    "       '\"Wheelchair Accessible\"', 'Iron', '\"First Aid Kit\"',\n",
    "       '\"Indoor Fireplace\"', '\"Cable TV\"', 'Heating', 'host_is_superhost', 'neighbourhood_group_cleansed',\n",
    "        'property_type','room_type','bed_type','price','security_deposit',\n",
    "        'cleaning_fee', 'extra_people', 'instant_bookable', 'cancellation_policy']\n",
    "\n",
    "df_lis_ml = df_lis[features_of_interest]\n",
    "\n",
    "#\\'\"Washer / Dryer\"\\', \\'\"Smoking Allowed\"\\', \\'\"Other pet(s)\"\\', \\'Doorman\\', \\'Pool\\'"
   ]
  },
  {
   "cell_type": "code",
   "execution_count": 122,
   "metadata": {},
   "outputs": [
    {
     "data": {
      "text/plain": [
       "square_feet            235\n",
       "reviews_per_month       37\n",
       "guests_included          1\n",
       "price                    1\n",
       "security_deposit       117\n",
       "cleaning_fee            69\n",
       "extra_people             1\n",
       "instant_bookable         1\n",
       "cancellation_policy      1\n",
       "dtype: int64"
      ]
     },
     "execution_count": 122,
     "metadata": {},
     "output_type": "execute_result"
    }
   ],
   "source": [
    "#Now lets check the missing values in each columns and find a way to fill them.\n",
    "\n",
    "df_lis_ml.isnull().sum()[df_lis_ml.isnull().sum()>0]"
   ]
  },
  {
   "cell_type": "code",
   "execution_count": 123,
   "metadata": {},
   "outputs": [],
   "source": [
    "#Here I drop the 'square_feet' column since there are many missing values and\n",
    "#columns like beds, bedrooms and bathrooms columns that can replace the square_feet\n",
    "\n",
    "df_lis_ml = df_lis_ml.drop(columns='square_feet')"
   ]
  },
  {
   "cell_type": "code",
   "execution_count": 124,
   "metadata": {},
   "outputs": [
    {
     "data": {
      "text/plain": [
       "Index(['bathrooms', 'bedrooms', 'beds', 'latitude', 'longitude',\n",
       "       'reviews_per_month', 'booking_ratio_30', 'accommodates',\n",
       "       'guests_included', '\"24-Hour Check-in\"', '\"Suitable for Events\"',\n",
       "       '\"Pets live on this property\"', 'Dog(s)', 'Essentials',\n",
       "       '\"Wireless Internet\"', '\"Buzzer/Wireless Intercom\"', 'TV', 'Gym',\n",
       "       '\"Hot Tub\"', '\"Air Conditioning\"', '\"Pets Allowed\"', '\"Hair Dryer\"',\n",
       "       '\"Fire Extinguisher\"', 'Breakfast', '\"Laptop Friendly Workspace\"',\n",
       "       '\"Free Parking on Premises\"', '\"Lock on Bedroom Door\"', 'Cat(s)',\n",
       "       'Hangers', '\"Family/Kid Friendly\"', '\"Carbon Monoxide Detector\"',\n",
       "       '\"Safety Card\"', 'Kitchen', '\"Elevator in Building\"', 'Internet',\n",
       "       'Shampoo', '\"Smoke Detector\"', '\"Wheelchair Accessible\"', 'Iron',\n",
       "       '\"First Aid Kit\"', '\"Indoor Fireplace\"', '\"Cable TV\"', 'Heating',\n",
       "       'host_is_superhost', 'neighbourhood_group_cleansed', 'property_type',\n",
       "       'room_type', 'bed_type', 'price', 'security_deposit', 'cleaning_fee',\n",
       "       'extra_people', 'instant_bookable', 'cancellation_policy'],\n",
       "      dtype='object')"
      ]
     },
     "execution_count": 124,
     "metadata": {},
     "output_type": "execute_result"
    }
   ],
   "source": [
    "df_lis_ml.columns"
   ]
  },
  {
   "cell_type": "markdown",
   "metadata": {},
   "source": [
    "There are only 9 columns that have missing values. Here is the strategy that I have for filling each of the columns:\n",
    "- Almost all of **square_feet** are missing. So I decided to drop that columns since I have columns like beds, bedrooms and bathrooms columns that can replace the square_feet.\n",
    "- guests_included, price, extra people, instant bookable, cancellation policy have very few missing values. reviews_per_month also has some missing values. Since all these columns are float, I will fill the missing values with the mean of that column.\n",
    "- security_deposit and cleaning_fee have object data type. I will change this later but for now I want to fill the missing values. The missing values here most probably mean they are equal to zero, so I will fill them with zero."
   ]
  },
  {
   "cell_type": "code",
   "execution_count": 125,
   "metadata": {},
   "outputs": [],
   "source": [
    "#Below, I replace the missing values of 4 features (bathrooms, bedrooms, beds and reviews_per_month) with\n",
    "#mean values of each feature in the dataset.\n",
    "\n",
    "df_lis_ml['bathrooms'].fillna(df_lis_ml['bathrooms'].mean(), inplace=True)\n",
    "df_lis_ml['bedrooms'].fillna(df_lis_ml['bedrooms'].mean(), inplace=True)\n",
    "df_lis_ml['beds'].fillna(df_lis_ml['beds'].mean(), inplace=True)\n",
    "df_lis_ml['reviews_per_month'].fillna(df_lis_ml['reviews_per_month'].mean(), inplace=True)"
   ]
  },
  {
   "cell_type": "code",
   "execution_count": 126,
   "metadata": {},
   "outputs": [],
   "source": [
    "#Below, I replace the missing values of 2 features (host_is_superhost and property_type) with\n",
    "#mode values (most common) of each feature in the dataset.\n",
    "\n",
    "df_lis_ml['host_is_superhost'].fillna(df_lis_ml['host_is_superhost'].mode()[0], inplace=True)\n",
    "df_lis_ml['property_type'].fillna(df_lis_ml['property_type'].mode()[0], inplace=True)"
   ]
  },
  {
   "cell_type": "code",
   "execution_count": 127,
   "metadata": {},
   "outputs": [],
   "source": [
    "#Below, I replace the missing values of 2 features (security_deposit and cleaning_fee) with zeros.\n",
    "#The missing values in these features most probably mean they are equal to zero\n",
    "\n",
    "df_lis_ml['security_deposit'].fillna(0, inplace=True)\n",
    "df_lis_ml['cleaning_fee'].fillna(0, inplace=True)"
   ]
  },
  {
   "cell_type": "markdown",
   "metadata": {},
   "source": [
    "Now I will check the datatypes, make necessary changes for the datatypes. Also I will have to make new columns for categorical columns."
   ]
  },
  {
   "cell_type": "code",
   "execution_count": 128,
   "metadata": {},
   "outputs": [
    {
     "data": {
      "text/plain": [
       "bathrooms                       float64\n",
       "bedrooms                          int64\n",
       "beds                              int64\n",
       "latitude                        float64\n",
       "longitude                       float64\n",
       "reviews_per_month               float64\n",
       "booking_ratio_30                float64\n",
       "accommodates                      int64\n",
       "guests_included                 float64\n",
       "\"24-Hour Check-in\"                int64\n",
       "\"Suitable for Events\"             int64\n",
       "\"Pets live on this property\"      int64\n",
       "Dog(s)                            int64\n",
       "Essentials                        int64\n",
       "\"Wireless Internet\"               int64\n",
       "\"Buzzer/Wireless Intercom\"        int64\n",
       "TV                                int64\n",
       "Gym                               int64\n",
       "\"Hot Tub\"                         int64\n",
       "\"Air Conditioning\"                int64\n",
       "\"Pets Allowed\"                    int64\n",
       "\"Hair Dryer\"                      int64\n",
       "\"Fire Extinguisher\"               int64\n",
       "Breakfast                         int64\n",
       "\"Laptop Friendly Workspace\"       int64\n",
       "\"Free Parking on Premises\"        int64\n",
       "\"Lock on Bedroom Door\"            int64\n",
       "Cat(s)                            int64\n",
       "Hangers                           int64\n",
       "\"Family/Kid Friendly\"             int64\n",
       "\"Carbon Monoxide Detector\"        int64\n",
       "\"Safety Card\"                     int64\n",
       "Kitchen                           int64\n",
       "\"Elevator in Building\"            int64\n",
       "Internet                          int64\n",
       "Shampoo                           int64\n",
       "\"Smoke Detector\"                  int64\n",
       "\"Wheelchair Accessible\"           int64\n",
       "Iron                              int64\n",
       "\"First Aid Kit\"                   int64\n",
       "\"Indoor Fireplace\"                int64\n",
       "\"Cable TV\"                        int64\n",
       "Heating                           int64\n",
       "host_is_superhost                object\n",
       "neighbourhood_group_cleansed     object\n",
       "property_type                    object\n",
       "room_type                        object\n",
       "bed_type                         object\n",
       "price                            object\n",
       "security_deposit                 object\n",
       "cleaning_fee                     object\n",
       "extra_people                     object\n",
       "instant_bookable                 object\n",
       "cancellation_policy              object\n",
       "dtype: object"
      ]
     },
     "execution_count": 128,
     "metadata": {},
     "output_type": "execute_result"
    }
   ],
   "source": [
    "df_lis_ml.dtypes"
   ]
  },
  {
   "cell_type": "markdown",
   "metadata": {},
   "source": [
    "The following columns have to change from object to float:\n",
    "- price\n",
    "- security_deposit\n",
    "- cleaning_fee"
   ]
  },
  {
   "cell_type": "code",
   "execution_count": 129,
   "metadata": {},
   "outputs": [],
   "source": [
    "#In the columns that have information about price, the $ signs and (comma) signs has to be removed. \n",
    "\n",
    "df_lis_ml['price'] = df_lis_ml['price'].str.replace('$', '')\n",
    "df_lis_ml['security_deposit'] = df_lis_ml['security_deposit'].str.replace('$', '')\n",
    "df_lis_ml['cleaning_fee'] = df_lis_ml['cleaning_fee'].str.replace('$', '')\n",
    "df_lis_ml['extra_people'] = df_lis_ml['extra_people'].str.replace('$', '')\n",
    "\n",
    "df_lis_ml['price'] = df_lis_ml['price'].str.replace(',', '')\n",
    "df_lis_ml['security_deposit'] = df_lis_ml['security_deposit'].str.replace(',', '')\n",
    "df_lis_ml['cleaning_fee'] = df_lis_ml['cleaning_fee'].str.replace(',', '')\n",
    "df_lis_ml['extra_people'] = df_lis_ml['extra_people'].str.replace(',', '')\n",
    "\n",
    "#Removing $ and , signs made 0 (zero) values NaN again. So I have to fillna with 0 again. \n",
    "df_lis_ml['security_deposit'].fillna(0, inplace=True)\n",
    "df_lis_ml['cleaning_fee'].fillna(0, inplace=True)"
   ]
  },
  {
   "cell_type": "code",
   "execution_count": 130,
   "metadata": {},
   "outputs": [],
   "source": [
    "#Changing data type from string to float.\n",
    "df_lis_ml['price'] = df_lis_ml['price'].astype(float)\n",
    "df_lis_ml['security_deposit'] = df_lis_ml['security_deposit'].astype(float)\n",
    "df_lis_ml['cleaning_fee'] = df_lis_ml['cleaning_fee'].astype(float)\n",
    "df_lis_ml['extra_people'] = df_lis_ml['extra_people'].astype(float)"
   ]
  },
  {
   "cell_type": "code",
   "execution_count": 131,
   "metadata": {
    "scrolled": true
   },
   "outputs": [],
   "source": [
    "#creating a new dataframe which is a subset of categorical columns of out df_lis_ml dataframe\n",
    "cat_cols = df_lis_ml.select_dtypes(include=['object'])"
   ]
  },
  {
   "cell_type": "code",
   "execution_count": 132,
   "metadata": {},
   "outputs": [
    {
     "data": {
      "text/html": [
       "<div>\n",
       "<style scoped>\n",
       "    .dataframe tbody tr th:only-of-type {\n",
       "        vertical-align: middle;\n",
       "    }\n",
       "\n",
       "    .dataframe tbody tr th {\n",
       "        vertical-align: top;\n",
       "    }\n",
       "\n",
       "    .dataframe thead th {\n",
       "        text-align: right;\n",
       "    }\n",
       "</style>\n",
       "<table border=\"1\" class=\"dataframe\">\n",
       "  <thead>\n",
       "    <tr style=\"text-align: right;\">\n",
       "      <th></th>\n",
       "      <th>host_is_superhost</th>\n",
       "      <th>neighbourhood_group_cleansed</th>\n",
       "      <th>property_type</th>\n",
       "      <th>room_type</th>\n",
       "      <th>bed_type</th>\n",
       "      <th>instant_bookable</th>\n",
       "      <th>cancellation_policy</th>\n",
       "    </tr>\n",
       "  </thead>\n",
       "  <tbody>\n",
       "    <tr>\n",
       "      <th>0</th>\n",
       "      <td>f</td>\n",
       "      <td>Queen Anne</td>\n",
       "      <td>Apartment</td>\n",
       "      <td>Entire home/apt</td>\n",
       "      <td>Real Bed</td>\n",
       "      <td>f</td>\n",
       "      <td>moderate</td>\n",
       "    </tr>\n",
       "    <tr>\n",
       "      <th>1</th>\n",
       "      <td>t</td>\n",
       "      <td>Queen Anne</td>\n",
       "      <td>Apartment</td>\n",
       "      <td>Entire home/apt</td>\n",
       "      <td>Real Bed</td>\n",
       "      <td>f</td>\n",
       "      <td>strict</td>\n",
       "    </tr>\n",
       "    <tr>\n",
       "      <th>2</th>\n",
       "      <td>f</td>\n",
       "      <td>Queen Anne</td>\n",
       "      <td>House</td>\n",
       "      <td>Entire home/apt</td>\n",
       "      <td>Real Bed</td>\n",
       "      <td>f</td>\n",
       "      <td>strict</td>\n",
       "    </tr>\n",
       "    <tr>\n",
       "      <th>3</th>\n",
       "      <td>f</td>\n",
       "      <td>Queen Anne</td>\n",
       "      <td>Apartment</td>\n",
       "      <td>Entire home/apt</td>\n",
       "      <td>Real Bed</td>\n",
       "      <td>f</td>\n",
       "      <td>flexible</td>\n",
       "    </tr>\n",
       "    <tr>\n",
       "      <th>4</th>\n",
       "      <td>f</td>\n",
       "      <td>Queen Anne</td>\n",
       "      <td>House</td>\n",
       "      <td>Entire home/apt</td>\n",
       "      <td>Real Bed</td>\n",
       "      <td>f</td>\n",
       "      <td>strict</td>\n",
       "    </tr>\n",
       "  </tbody>\n",
       "</table>\n",
       "</div>"
      ],
      "text/plain": [
       "  host_is_superhost neighbourhood_group_cleansed property_type  \\\n",
       "0                 f                   Queen Anne     Apartment   \n",
       "1                 t                   Queen Anne     Apartment   \n",
       "2                 f                   Queen Anne         House   \n",
       "3                 f                   Queen Anne     Apartment   \n",
       "4                 f                   Queen Anne         House   \n",
       "\n",
       "         room_type  bed_type instant_bookable cancellation_policy  \n",
       "0  Entire home/apt  Real Bed                f            moderate  \n",
       "1  Entire home/apt  Real Bed                f              strict  \n",
       "2  Entire home/apt  Real Bed                f              strict  \n",
       "3  Entire home/apt  Real Bed                f            flexible  \n",
       "4  Entire home/apt  Real Bed                f              strict  "
      ]
     },
     "execution_count": 132,
     "metadata": {},
     "output_type": "execute_result"
    }
   ],
   "source": [
    "cat_cols.head()"
   ]
  },
  {
   "cell_type": "code",
   "execution_count": 133,
   "metadata": {},
   "outputs": [],
   "source": [
    "# Making new columns from categorical variables in order to use these features in ML regression algoritm.\n",
    "for col in cat_cols:\n",
    "    try:\n",
    "        df_lis_ml = pd.concat([df_lis_ml.drop(col, axis=1), pd.get_dummies(df_lis_ml[col], prefix=col, prefix_sep='_', drop_first=True)], axis=1)\n",
    "    except:\n",
    "        continue"
   ]
  },
  {
   "cell_type": "markdown",
   "metadata": {},
   "source": [
    "Since I made the data ready, I will try Linear Regression to estimate price depending on features I selected."
   ]
  },
  {
   "cell_type": "code",
   "execution_count": 134,
   "metadata": {},
   "outputs": [
    {
     "data": {
      "text/plain": [
       "guests_included    1\n",
       "price              1\n",
       "extra_people       1\n",
       "dtype: int64"
      ]
     },
     "execution_count": 134,
     "metadata": {},
     "output_type": "execute_result"
    }
   ],
   "source": [
    "df_lis_ml.isnull().sum()[df_lis_ml.isnull().sum()>0]"
   ]
  },
  {
   "cell_type": "code",
   "execution_count": 135,
   "metadata": {},
   "outputs": [],
   "source": [
    "\n",
    "# few rows can be dropped. "
   ]
  },
  {
   "cell_type": "code",
   "execution_count": 136,
   "metadata": {},
   "outputs": [],
   "source": [
    "df_lis_ml.dropna(inplace = True)"
   ]
  },
  {
   "cell_type": "code",
   "execution_count": 137,
   "metadata": {},
   "outputs": [
    {
     "data": {
      "text/plain": [
       "Series([], dtype: int64)"
      ]
     },
     "execution_count": 137,
     "metadata": {},
     "output_type": "execute_result"
    }
   ],
   "source": [
    "df_lis_ml.isnull().sum()[df_lis_ml.isnull().sum()>0]"
   ]
  },
  {
   "cell_type": "code",
   "execution_count": 138,
   "metadata": {},
   "outputs": [],
   "source": [
    "#Creating the X (feautures) and y (the variable to be modelled) dataframes\n",
    "y = df_lis_ml['price']\n",
    "X = df_lis_ml.drop(columns='price')"
   ]
  },
  {
   "cell_type": "code",
   "execution_count": 139,
   "metadata": {},
   "outputs": [],
   "source": [
    "\n",
    "#Splitting the new dataframes into train and test dataframes\n",
    "X_train, X_test, y_train, y_test = train_test_split(X, y, test_size = 0.2, random_state=42)"
   ]
  },
  {
   "cell_type": "markdown",
   "metadata": {},
   "source": [
    "## 4. Modelling"
   ]
  },
  {
   "cell_type": "code",
   "execution_count": 140,
   "metadata": {
    "scrolled": true
   },
   "outputs": [
    {
     "name": "stdout",
     "output_type": "stream",
     "text": [
      "0.637591970591777\n"
     ]
    }
   ],
   "source": [
    "#Applying the linear regression, fitting the model, making predictions with the test set and scoring the success of the model\n",
    "lm_model = LinearRegression()\n",
    "lm_model.fit(X_train, y_train)\n",
    "y_test_preds = lm_model.predict(X_test)\n",
    "test_score = r2_score(y_test, y_test_preds)\n",
    "print(test_score)"
   ]
  },
  {
   "cell_type": "markdown",
   "metadata": {},
   "source": [
    "The r-squared value of my model is 0.637 which is not too high."
   ]
  },
  {
   "cell_type": "markdown",
   "metadata": {},
   "source": [
    "I want to investigate about the coefficients of my model. Below function is taken from one of the Udacity jupyter notebook examples. I used this code to see coefficients of my model."
   ]
  },
  {
   "cell_type": "code",
   "execution_count": 141,
   "metadata": {},
   "outputs": [],
   "source": [
    "\n",
    "#Below function is taken from one of the Udacity jupyter notebook examples. I used this code to see coefficients of my model. \n",
    "def coef_weights(coefficients, X_train):\n",
    "    '''\n",
    "    INPUT:\n",
    "    coefficients - the coefficients of the linear model \n",
    "    X_train - the training data, so the column names can be used\n",
    "    OUTPUT:\n",
    "    coefs_df - a dataframe holding the coefficient, estimate, and abs(estimate)\n",
    "    \n",
    "    Provides a dataframe that can be used to understand the most influential coefficients\n",
    "    in a linear model by providing the coefficient estimates along with the name of the \n",
    "    variable attached to the coefficient.\n",
    "    '''\n",
    "    coefs_df = pd.DataFrame()\n",
    "    coefs_df['est_int'] = X_train.columns\n",
    "    coefs_df['coefs'] = lm_model.coef_\n",
    "    coefs_df['abs_coefs'] = np.abs(lm_model.coef_)\n",
    "    coefs_df = coefs_df.sort_values('abs_coefs', ascending=False)\n",
    "    return coefs_df\n",
    "\n",
    "#Use the function\n",
    "coef_df = coef_weights(lm_model.coef_, X_train)"
   ]
  },
  {
   "cell_type": "markdown",
   "metadata": {},
   "source": [
    "Below is the list features that are the most influential coefficients. "
   ]
  },
  {
   "cell_type": "code",
   "execution_count": 142,
   "metadata": {},
   "outputs": [
    {
     "data": {
      "text/html": [
       "<div>\n",
       "<style scoped>\n",
       "    .dataframe tbody tr th:only-of-type {\n",
       "        vertical-align: middle;\n",
       "    }\n",
       "\n",
       "    .dataframe tbody tr th {\n",
       "        vertical-align: top;\n",
       "    }\n",
       "\n",
       "    .dataframe thead th {\n",
       "        text-align: right;\n",
       "    }\n",
       "</style>\n",
       "<table border=\"1\" class=\"dataframe\">\n",
       "  <thead>\n",
       "    <tr style=\"text-align: right;\">\n",
       "      <th></th>\n",
       "      <th>est_int</th>\n",
       "      <th>coefs</th>\n",
       "      <th>abs_coefs</th>\n",
       "    </tr>\n",
       "  </thead>\n",
       "  <tbody>\n",
       "    <tr>\n",
       "      <th>3</th>\n",
       "      <td>latitude</td>\n",
       "      <td>-3690.235700</td>\n",
       "      <td>3690.235700</td>\n",
       "    </tr>\n",
       "    <tr>\n",
       "      <th>4</th>\n",
       "      <td>longitude</td>\n",
       "      <td>-695.254888</td>\n",
       "      <td>695.254888</td>\n",
       "    </tr>\n",
       "    <tr>\n",
       "      <th>47</th>\n",
       "      <td>neighbourhood_group_cleansed_Queen Anne</td>\n",
       "      <td>-68.260285</td>\n",
       "      <td>68.260285</td>\n",
       "    </tr>\n",
       "    <tr>\n",
       "      <th>27</th>\n",
       "      <td>Cat(s)</td>\n",
       "      <td>63.956549</td>\n",
       "      <td>63.956549</td>\n",
       "    </tr>\n",
       "    <tr>\n",
       "      <th>10</th>\n",
       "      <td>\"Suitable for Events\"</td>\n",
       "      <td>-62.943194</td>\n",
       "      <td>62.943194</td>\n",
       "    </tr>\n",
       "    <tr>\n",
       "      <th>49</th>\n",
       "      <td>property_type_Bungalow</td>\n",
       "      <td>-60.586793</td>\n",
       "      <td>60.586793</td>\n",
       "    </tr>\n",
       "    <tr>\n",
       "      <th>18</th>\n",
       "      <td>\"Hot Tub\"</td>\n",
       "      <td>55.598151</td>\n",
       "      <td>55.598151</td>\n",
       "    </tr>\n",
       "    <tr>\n",
       "      <th>12</th>\n",
       "      <td>Dog(s)</td>\n",
       "      <td>51.788541</td>\n",
       "      <td>51.788541</td>\n",
       "    </tr>\n",
       "    <tr>\n",
       "      <th>42</th>\n",
       "      <td>Heating</td>\n",
       "      <td>-42.413729</td>\n",
       "      <td>42.413729</td>\n",
       "    </tr>\n",
       "    <tr>\n",
       "      <th>1</th>\n",
       "      <td>bedrooms</td>\n",
       "      <td>37.577405</td>\n",
       "      <td>37.577405</td>\n",
       "    </tr>\n",
       "    <tr>\n",
       "      <th>48</th>\n",
       "      <td>property_type_Boat</td>\n",
       "      <td>-36.941934</td>\n",
       "      <td>36.941934</td>\n",
       "    </tr>\n",
       "    <tr>\n",
       "      <th>57</th>\n",
       "      <td>room_type_Shared room</td>\n",
       "      <td>-36.275317</td>\n",
       "      <td>36.275317</td>\n",
       "    </tr>\n",
       "    <tr>\n",
       "      <th>11</th>\n",
       "      <td>\"Pets live on this property\"</td>\n",
       "      <td>-31.246909</td>\n",
       "      <td>31.246909</td>\n",
       "    </tr>\n",
       "    <tr>\n",
       "      <th>37</th>\n",
       "      <td>\"Wheelchair Accessible\"</td>\n",
       "      <td>30.336398</td>\n",
       "      <td>30.336398</td>\n",
       "    </tr>\n",
       "    <tr>\n",
       "      <th>51</th>\n",
       "      <td>property_type_Camper/RV</td>\n",
       "      <td>-29.262358</td>\n",
       "      <td>29.262358</td>\n",
       "    </tr>\n",
       "  </tbody>\n",
       "</table>\n",
       "</div>"
      ],
      "text/plain": [
       "                                    est_int        coefs    abs_coefs\n",
       "3                                  latitude -3690.235700  3690.235700\n",
       "4                                 longitude  -695.254888   695.254888\n",
       "47  neighbourhood_group_cleansed_Queen Anne   -68.260285    68.260285\n",
       "27                                   Cat(s)    63.956549    63.956549\n",
       "10                    \"Suitable for Events\"   -62.943194    62.943194\n",
       "49                   property_type_Bungalow   -60.586793    60.586793\n",
       "18                                \"Hot Tub\"    55.598151    55.598151\n",
       "12                                   Dog(s)    51.788541    51.788541\n",
       "42                                  Heating   -42.413729    42.413729\n",
       "1                                  bedrooms    37.577405    37.577405\n",
       "48                       property_type_Boat   -36.941934    36.941934\n",
       "57                    room_type_Shared room   -36.275317    36.275317\n",
       "11             \"Pets live on this property\"   -31.246909    31.246909\n",
       "37                  \"Wheelchair Accessible\"    30.336398    30.336398\n",
       "51                  property_type_Camper/RV   -29.262358    29.262358"
      ]
     },
     "execution_count": 142,
     "metadata": {},
     "output_type": "execute_result"
    }
   ],
   "source": [
    "coef_df.head(15)"
   ]
  },
  {
   "cell_type": "markdown",
   "metadata": {},
   "source": [
    "In order to increase r-squared value I will use SelectKBest.\n",
    "Below I write a function that tests different \"k\" numbers and compare r-squared for each k value."
   ]
  },
  {
   "cell_type": "code",
   "execution_count": 143,
   "metadata": {},
   "outputs": [],
   "source": [
    "def find_optimal_number_of_selectors(X, y, k_samples, plot=True):\n",
    "    '''\n",
    "    INPUT:\n",
    "    X dataframe that contains the features.\n",
    "    y dataframe that contains the variable to be predicted.\n",
    "    k_samples is a list of k values that will be tested.\n",
    "    \n",
    "    OUTPUT:\n",
    "    A dictionary that contains values of tested k-values as keys and r-squared values for each key.\n",
    "    The k-value that has the highest r-squared.\n",
    "\n",
    "    '''   \n",
    "    result_r_squareds = []\n",
    "    results = {}\n",
    "    for kes in k_samples:\n",
    "        selector = SelectKBest(score_func=f_regression, k=kes)\n",
    "        selector.fit_transform(X, y)\n",
    "        selected_cols = selector.get_support(indices=True)\n",
    "        features_new_X = X.iloc[:,selected_cols]\n",
    "        \n",
    "        X_train, X_test, y_train, y_test = train_test_split(features_new_X, y, test_size = 0.2, random_state=42)\n",
    "        lm_model = LinearRegression()\n",
    "        lm_model.fit(X_train, y_train)\n",
    "        y_test_preds = lm_model.predict(X_test)\n",
    "        result_r_squareds.append(r2_score(y_test, y_test_preds))\n",
    "        results[str(kes)] = r2_score(y_test, y_test_preds)\n",
    "    \n",
    "    if plot:\n",
    "        plt.plot(k_samples, result_r_squareds, label=\"r-squared\", alpha=0.5)\n",
    "        plt.xlabel(\"Different k_values\")\n",
    "        plt.ylabel(\"R_Squared_Values\")\n",
    "        plt.legend(loc=1)\n",
    "        plt.show()\n",
    "    \n",
    "    best_k = max(results, key=results.get)\n",
    "    \n",
    "    return results, best_k"
   ]
  },
  {
   "cell_type": "code",
   "execution_count": 144,
   "metadata": {},
   "outputs": [],
   "source": [
    "from sklearn.preprocessing import normalize"
   ]
  },
  {
   "cell_type": "code",
   "execution_count": null,
   "metadata": {},
   "outputs": [],
   "source": []
  },
  {
   "cell_type": "code",
   "execution_count": 145,
   "metadata": {},
   "outputs": [
    {
     "data": {
      "image/png": "[encoded data removed]",
      "text/plain": [
       "<Figure size 640x480 with 1 Axes>"
      ]
     },
     "metadata": {},
     "output_type": "display_data"
    },
    {
     "name": "stdout",
     "output_type": "stream",
     "text": [
      "{'10': 0.6052729679193241, '11': 0.5946181889477131, '12': 0.597190523205127, '13': 0.5950416721245969, '14': 0.5962624890823486, '15': 0.596253407375007, '16': 0.5924789140706619, '17': 0.6151714152677917, '18': 0.6171938861383001, '19': 0.6214500145230784, '20': 0.6218284862071801, '21': 0.6427341575740556, '22': 0.6466870369461484, '23': 0.6467972015434069, '24': 0.6466798860969, '25': 0.6463845503086627, '26': 0.6446864737126834, '27': 0.6438494332552295, '28': 0.6465289660399596, '29': 0.6434176762652024, '30': 0.6425929594899343, '31': 0.6426687792569666, '32': 0.6440151900469345, '33': 0.6455502958764825, '34': 0.6427498671299519, '35': 0.6465128595051521, '36': 0.6461335524274805, '37': 0.6449806857075524, '38': 0.6453554773266315, '39': 0.6450890926444062, '40': 0.6464562975600519, '41': 0.6409717204790754, '42': 0.6396550566188023, '43': 0.6426772602793775, '44': 0.6464791144532489, '45': 0.643069846750819, '46': 0.644497264017229, '47': 0.6467922840341975, '48': 0.6467683120841463, '49': 0.6461686045950468, '50': 0.6415004217387241, '51': 0.6416573612047726, '52': 0.6406136543293801, '53': 0.6436308604432286, '54': 0.6450799033342456, '55': 0.6528699631706194, '56': 0.6528335750104577, '57': 0.6529565326985705, '58': 0.6537971191083858, '59': 0.6487299029513154, '60': 0.6389760991905515, '61': 0.6370653469464649, '62': 0.6370222232239091}\n",
      "58\n",
      "0.6537971191083858\n"
     ]
    }
   ],
   "source": [
    "#I test a range of k values from 10 to 94 (which is the number of all features)\n",
    "#and find the number of features that generate the highest r-squared value.\n",
    "k_samples = range(10, len(X.columns))\n",
    "emre_results, emre_best_k = find_optimal_number_of_selectors(X, y, k_samples)\n",
    "print(emre_results)\n",
    "print(emre_best_k)\n",
    "print(emre_results[emre_best_k])"
   ]
  },
  {
   "cell_type": "markdown",
   "metadata": {},
   "source": []
  },
  {
   "cell_type": "markdown",
   "metadata": {},
   "source": [
    "The highest r-squared value is achieved with 79 features and the r-squared value is 0,6244"
   ]
  },
  {
   "cell_type": "markdown",
   "metadata": {},
   "source": [
    "#### Question-4\n",
    "\n",
    "In the dataset we have latitude and longitude that gives information about the location of the listing. I would like to investigate effect of listings' proximity to Seattle Downtown. Does it increase the price or decrease the price to be close to downtown. And how much does it effect the price? This is my final question to answer."
   ]
  },
  {
   "cell_type": "markdown",
   "metadata": {},
   "source": [
    "Below I write a function that calculate the distance from downtown. According to Google Maps the coordinates of Seattle downtown are [47.605151, -122.334379] This is the coordinate that I will calculate the distance of every listing."
   ]
  },
  {
   "cell_type": "code",
   "execution_count": 146,
   "metadata": {},
   "outputs": [],
   "source": [
    "def distance_from_downtown(lat, lon, downtown=[47.605151, -122.334379]):\n",
    "    '''\n",
    "    INPUT:\n",
    "    lat is the latitude of the point that I will calculate distance.\n",
    "    lon is the longitude of the point that I will calculate distance.\n",
    "    downtown is the coordinate of Seattle Downtown according to Google Maps. Downtown variable can be different, if the\n",
    "    distance is expected to be calculated from a different point.\n",
    "    \n",
    "    OUTPUT:\n",
    "    Distance between the point and the downtown.\n",
    "    '''   \n",
    "    R = 6373.0\n",
    "    lat1 = math.radians(downtown[0])\n",
    "    lon1 = math.radians(downtown[1])\n",
    "    lat2 = math.radians(lat)\n",
    "    lon2 = math.radians(lon)\n",
    "    dlon = lon2 - lon1\n",
    "    dlat = lat2 - lat1\n",
    "    a = math.sin(dlat / 2)**2 + math.cos(lat1) * math.cos(lat2) * math.sin(dlon / 2)**2\n",
    "    c = 2 * math.atan2(math.sqrt(a), math.sqrt(1 - a))\n",
    "    distance = R * c\n",
    "    return distance"
   ]
  },
  {
   "cell_type": "code",
   "execution_count": 147,
   "metadata": {},
   "outputs": [],
   "source": [
    "#Below I make a for look to calculate the distance of each listing from downtown.\n",
    "#I create a new variable called 'distance_from_downtown' which has the information of distance of listing from downtown. \n",
    "for i in range(len(df_lis_ml)):\n",
    "    df_lis_ml.loc[ i , 'distance_from_downtown'] = distance_from_downtown(df_lis_ml.loc[ i ,'latitude'] , df_lis_ml.loc[ i ,'longitude'])"
   ]
  },
  {
   "cell_type": "code",
   "execution_count": 148,
   "metadata": {},
   "outputs": [],
   "source": [
    "#Since we added a distance variable, we do not need 'latitude', 'longitude' columns.\n",
    "df_lis_ml.drop(columns=['latitude', 'longitude'], inplace=True)"
   ]
  },
  {
   "cell_type": "markdown",
   "metadata": {},
   "source": [
    "Lets make another regression model with distance from downtown variable."
   ]
  },
  {
   "cell_type": "code",
   "execution_count": 149,
   "metadata": {},
   "outputs": [],
   "source": [
    "#Creating the X (feautures) and y (the variable to be modelled) dataframes\n",
    "y = df_lis_ml['price']\n",
    "X = df_lis_ml.drop(columns='price')"
   ]
  },
  {
   "cell_type": "code",
   "execution_count": 150,
   "metadata": {},
   "outputs": [],
   "source": [
    "#Splitting the new dataframes into train and test dataframes\n",
    "X_train, X_test, y_train, y_test = train_test_split(X, y, test_size = 0.2, random_state=42)"
   ]
  },
  {
   "cell_type": "code",
   "execution_count": 151,
   "metadata": {
    "scrolled": true
   },
   "outputs": [
    {
     "name": "stdout",
     "output_type": "stream",
     "text": [
      "0.6340285027737984\n"
     ]
    }
   ],
   "source": [
    "#Applying the linear regression, fitting the model, making predictions with the test set and scoring the success of the model\n",
    "lm_model = LinearRegression()\n",
    "lm_model.fit(X_train, y_train)\n",
    "y_test_preds = lm_model.predict(X_test)\n",
    "test_score = r2_score(y_test, y_test_preds)\n",
    "print(test_score)"
   ]
  },
  {
   "cell_type": "code",
   "execution_count": 152,
   "metadata": {},
   "outputs": [],
   "source": [
    "#Previously I had written a function above to see coefficients of my regression model.\n",
    "#The name of the function was \"coef_weights\"\n",
    "\n",
    "#I use the function again to find the coefficients of the new model.\n",
    "coef_df = coef_weights(lm_model.coef_, X_train)"
   ]
  },
  {
   "cell_type": "markdown",
   "metadata": {},
   "source": [
    "## 5.Evaluation"
   ]
  },
  {
   "cell_type": "code",
   "execution_count": 153,
   "metadata": {},
   "outputs": [
    {
     "data": {
      "text/html": [
       "<div>\n",
       "<style scoped>\n",
       "    .dataframe tbody tr th:only-of-type {\n",
       "        vertical-align: middle;\n",
       "    }\n",
       "\n",
       "    .dataframe tbody tr th {\n",
       "        vertical-align: top;\n",
       "    }\n",
       "\n",
       "    .dataframe thead th {\n",
       "        text-align: right;\n",
       "    }\n",
       "</style>\n",
       "<table border=\"1\" class=\"dataframe\">\n",
       "  <thead>\n",
       "    <tr style=\"text-align: right;\">\n",
       "      <th></th>\n",
       "      <th>est_int</th>\n",
       "      <th>coefs</th>\n",
       "      <th>abs_coefs</th>\n",
       "    </tr>\n",
       "  </thead>\n",
       "  <tbody>\n",
       "    <tr>\n",
       "      <th>61</th>\n",
       "      <td>distance_from_downtown</td>\n",
       "      <td>-9.694045</td>\n",
       "      <td>9.694045</td>\n",
       "    </tr>\n",
       "  </tbody>\n",
       "</table>\n",
       "</div>"
      ],
      "text/plain": [
       "                   est_int     coefs  abs_coefs\n",
       "61  distance_from_downtown -9.694045   9.694045"
      ]
     },
     "execution_count": 153,
     "metadata": {},
     "output_type": "execute_result"
    }
   ],
   "source": [
    "#I print the coefficient of 'distance_from_downtown' variable\n",
    "coef_df[coef_df['est_int'] == 'distance_from_downtown']"
   ]
  },
  {
   "cell_type": "markdown",
   "metadata": {
    "scrolled": true
   },
   "source": [
    "As can be seen above, the 'distance_from_downtown' feature has a negative effect on price. As the distance from downtown increases, the price of listing decreases. For one kilometer additional distance from downtown, the price of listing decrease around 3 USD. "
   ]
  },
  {
   "cell_type": "code",
   "execution_count": null,
   "metadata": {},
   "outputs": [],
   "source": []
  },
  {
   "cell_type": "code",
   "execution_count": null,
   "metadata": {},
   "outputs": [],
   "source": []
  },
  {
   "cell_type": "code",
   "execution_count": null,
   "metadata": {},
   "outputs": [],
   "source": []
  },
  {
   "cell_type": "code",
   "execution_count": null,
   "metadata": {},
   "outputs": [],
   "source": []
  }
 ],
 "metadata": {
  "kernelspec": {
   "display_name": "Python 3 (ipykernel)",
   "language": "python",
   "name": "python3"
  },
  "language_info": {
   "codemirror_mode": {
    "name": "ipython",
    "version": 3
   },
   "file_extension": ".py",
   "mimetype": "text/x-python",
   "name": "python",
   "nbconvert_exporter": "python",
   "pygments_lexer": "ipython3",
   "version": "3.8.18"
  }
 },
 "nbformat": 4,
 "nbformat_minor": 4
}
